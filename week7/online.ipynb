{
 "cells": [
  {
   "cell_type": "code",
   "execution_count": 1,
   "metadata": {},
   "outputs": [],
   "source": [
    "class User:\n",
    "    def __init__(self, name):\n",
    "        self.name = name\n",
    "        self.messages = []\n",
    "\n",
    "    def send_message(self, recipient, message):\n",
    "        recipient.receive_message(self, message)\n",
    "\n",
    "    def receive_message(self, sender, message):\n",
    "        self.messages.append({\"sender\": sender.name, \"message\": message})\n",
    "\n",
    "\n",
    "class MessagingSystem:\n",
    "    def __init__(self):\n",
    "        self.users = []\n",
    "\n",
    "    def register_user(self, user):\n",
    "        self.users.append(user)\n",
    "\n",
    "    def get_all_messages(self, user):\n",
    "        return user.messages\n"
   ]
  },
  {
   "cell_type": "markdown",
   "metadata": {},
   "source": [
    "**User** class represents a user in the messaging system. It has a name and a list of messages.<br>\n",
    "**send_message** method allows a user to send a message to another user.<br>\n",
    "**receive_message** method is called when a user receives a message, and it adds the message to the user's list.<br>\n",
    "**MessagingSystem** class manages the users and allows user registration and message retrieval."
   ]
  },
  {
   "cell_type": "markdown",
   "metadata": {},
   "source": [
    "# 2. Object-Oriented Design Principle - Encapsulation:\n",
    "**Encapsulation**is the principle of bundling the data (attributes) and the methods (functions) that operate on the data into a single unit or class. It hides the internal state of an object and requires all interactions to be performed through an object's methods.\n",
    "\n",
    "### **Application in the Code:**\n",
    "\n",
    "In the User class, the internal state (user's name and messages) is encapsulated within the class. Direct access to these attributes is restricted.\n",
    "Methods (send_message and receive_message) provide a controlled interface for interacting with the internal state.\n",
    "\n",
    "#### **Advantages:**\n",
    "\n",
    "Protects the integrity of the internal state by preventing external code from directly modifying it.\n",
    "Allows for better control and validation of data."
   ]
  },
  {
   "cell_type": "markdown",
   "metadata": {},
   "source": [
    "# 3. How Encapsulation Improves the Design:\n",
    "**Encapsulation** enhances modularity by grouping related functionalities together.<br>\n",
    "It reduces the complexity of external code by providing a clear and well-defined interface.<br>\n",
    "Changes to the internal implementation (e.g., modifying how messages are stored) won't impact the external code as long as the interface remains unchanged.<br>\n",
    "In summary, encapsulation in this design promotes a clean and modular structure, making it easier to maintain and extend the messaging system."
   ]
  },
  {
   "cell_type": "code",
   "execution_count": null,
   "metadata": {},
   "outputs": [],
   "source": []
  }
 ],
 "metadata": {
  "kernelspec": {
   "display_name": "Python 3",
   "language": "python",
   "name": "python3"
  },
  "language_info": {
   "codemirror_mode": {
    "name": "ipython",
    "version": 3
   },
   "file_extension": ".py",
   "mimetype": "text/x-python",
   "name": "python",
   "nbconvert_exporter": "python",
   "pygments_lexer": "ipython3",
   "version": "3.10.4"
  }
 },
 "nbformat": 4,
 "nbformat_minor": 2
}
